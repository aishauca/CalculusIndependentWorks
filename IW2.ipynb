{
  "nbformat": 4,
  "nbformat_minor": 0,
  "metadata": {
    "colab": {
      "name": "IW2.ipynb",
      "provenance": [],
      "collapsed_sections": [],
      "authorship_tag": "ABX9TyOuMJStE/4+UTgI8d2VTUyt",
      "include_colab_link": true
    },
    "kernelspec": {
      "name": "python3",
      "display_name": "Python 3"
    },
    "language_info": {
      "name": "python"
    }
  },
  "cells": [
    {
      "cell_type": "markdown",
      "metadata": {
        "id": "view-in-github",
        "colab_type": "text"
      },
      "source": [
        "<a href=\"https://colab.research.google.com/github/aishauca/CalculusIndependentWorks/blob/main/IW2.ipynb\" target=\"_parent\"><img src=\"https://colab.research.google.com/assets/colab-badge.svg\" alt=\"Open In Colab\"/></a>"
      ]
    },
    {
      "cell_type": "markdown",
      "source": [
        ""
      ],
      "metadata": {
        "id": "gv1NFqKoBS8G"
      }
    },
    {
      "cell_type": "markdown",
      "source": [
        "##Independent Work 2:\n",
        "\n",
        "###Part I: Linear Regression with single dimensional input\n",
        "     -> Input:     x, y in R^n\n",
        "     -> Output: m and b\n",
        "\n",
        "\n"
      ],
      "metadata": {
        "id": "UBRXLd5tBfrO"
      }
    },
    {
      "cell_type": "code",
      "source": [
        "import numpy as np\n",
        "from sklearn.linear_model import LinearRegression\n",
        "import math\n",
        "import matplotlib.pyplot as plt\n",
        "\n",
        "def linear_regression1D_macchine_learning(x,y):\n",
        "  x = np.array(x)\n",
        "  y = np.array(y)\n",
        "\n",
        "  # Using scikit-learn library from Machine Learning\n",
        "  regressor = LinearRegression()\n",
        "  regressor.fit(x,y)\n",
        "  print(f\"The coefficient is {regressor.coef_} and the slop (intersept) is {regressor.intercept_}\")\n",
        "\n",
        "def linear_regression1D_formula(x,y):\n",
        "  x=np.array(x)\n",
        "  y=np.array(y)\n",
        "\n",
        "  # Using least square regression line formula\n",
        "  n = x.size\n",
        "  sum_x = x.sum()\n",
        "  sum_y=y.sum()\n",
        "  sum_x_2= np.dot(x,x).sum()\n",
        "  sum_xy=np.dot(x,y).sum()\n",
        "  print(f\"n = {x.size} sum_x = {x.sum()} sum_y= {y.sum()} sum_x_2 = {np.dot(x,x).sum()} sum_xy={np.dot(x,y)}\")\n",
        "  # m = n * (sum_xy-sum_x*sum_y)/(n*sum_x_2- (math.pow(sum_x,2)))\n",
        "  m = (n*sum_xy-sum_x*sum_y)/(n*sum_x_2-(sum_x)**2)\n",
        "  \n",
        "  b = 1/n*(sum_y-m*sum_x)\n",
        "  print(f\"m ={m} and b ={b}\")\n"
      ],
      "metadata": {
        "id": "9eekgHJVBlhD"
      },
      "execution_count": 23,
      "outputs": []
    },
    {
      "cell_type": "code",
      "source": [
        "# y =1x-2\n",
        "# x = [-3,-2,-1,0,1,2,3]\n",
        "# y = [7,2,-1,-2,-1,2,7]\n",
        "# x=[-2,1,3]\n",
        "# y=[-1,1,2]\n",
        "x=[1,2,3,4,5,6,7,8,9]\n",
        "y=[1,4,9,16,25,36,49,64,81]\n",
        "plt.plot(x,y)\n",
        "print(linear_regression1D_formula(x,y))\n"
      ],
      "metadata": {
        "colab": {
          "base_uri": "https://localhost:8080/",
          "height": 317
        },
        "id": "BhLx3Rly_L5_",
        "outputId": "9c8751a9-6062-451e-c101-05115ba2ebc4"
      },
      "execution_count": 25,
      "outputs": [
        {
          "output_type": "stream",
          "name": "stdout",
          "text": [
            "n = 9 sum_x = 45 sum_y= 285 sum_x_2 = 285 sum_xy=2025\n",
            "m =10.0 and b =-18.333333333333332\n",
            "None\n"
          ]
        },
        {
          "output_type": "display_data",
          "data": {
            "text/plain": [
              "<Figure size 432x288 with 1 Axes>"
            ],
            "image/png": "[encoded data removed]"
          },
          "metadata": {
            "needs_background": "light"
          }
        }
      ]
    },
    {
      "cell_type": "code",
      "source": [
        "x"
      ],
      "metadata": {
        "colab": {
          "base_uri": "https://localhost:8080/"
        },
        "id": "wIFR_Fp5BKPb",
        "outputId": "5b945579-1cc4-4f37-aec5-7f57af4c9336"
      },
      "execution_count": 3,
      "outputs": [
        {
          "output_type": "execute_result",
          "data": {
            "text/plain": [
              "[-3, -2, -1, 0, 1, 2, 3]"
            ]
          },
          "metadata": {},
          "execution_count": 3
        }
      ]
    },
    {
      "cell_type": "code",
      "source": [
        "y"
      ],
      "metadata": {
        "colab": {
          "base_uri": "https://localhost:8080/"
        },
        "id": "9sXzzID2BKWP",
        "outputId": "6a2ff374-cdd1-43d2-a292-20d81e2e765a"
      },
      "execution_count": 4,
      "outputs": [
        {
          "output_type": "execute_result",
          "data": {
            "text/plain": [
              "[7, 2, -1, -2, -1, 2, 7]"
            ]
          },
          "metadata": {},
          "execution_count": 4
        }
      ]
    },
    {
      "cell_type": "code",
      "source": [
        "x = np.array(x)\n",
        "x"
      ],
      "metadata": {
        "colab": {
          "base_uri": "https://localhost:8080/"
        },
        "id": "rcjBIg8pBKdh",
        "outputId": "0eb3fabd-c09d-4f15-db66-e7e3fe4317f3"
      },
      "execution_count": 7,
      "outputs": [
        {
          "output_type": "execute_result",
          "data": {
            "text/plain": [
              "array([-3, -2, -1,  0,  1,  2,  3])"
            ]
          },
          "metadata": {},
          "execution_count": 7
        }
      ]
    },
    {
      "cell_type": "code",
      "source": [
        "y = np.array(y)\n",
        "y"
      ],
      "metadata": {
        "colab": {
          "base_uri": "https://localhost:8080/"
        },
        "id": "3NEw871eBKjh",
        "outputId": "55c40068-7075-4f9c-f386-be76eb509c79"
      },
      "execution_count": 8,
      "outputs": [
        {
          "output_type": "execute_result",
          "data": {
            "text/plain": [
              "array([ 7,  2, -1, -2, -1,  2,  7])"
            ]
          },
          "metadata": {},
          "execution_count": 8
        }
      ]
    },
    {
      "cell_type": "code",
      "source": [
        "n = x.size\n",
        "n"
      ],
      "metadata": {
        "colab": {
          "base_uri": "https://localhost:8080/"
        },
        "id": "8LEMHPg8BWoI",
        "outputId": "8a996787-a04d-41a9-b574-251c5ee8864d"
      },
      "execution_count": 10,
      "outputs": [
        {
          "output_type": "execute_result",
          "data": {
            "text/plain": [
              "7"
            ]
          },
          "metadata": {},
          "execution_count": 10
        }
      ]
    },
    {
      "cell_type": "code",
      "source": [
        ""
      ],
      "metadata": {
        "id": "UFZy4epEBWrR"
      },
      "execution_count": null,
      "outputs": []
    },
    {
      "cell_type": "code",
      "source": [
        ""
      ],
      "metadata": {
        "id": "yD0OURMRBWvt"
      },
      "execution_count": null,
      "outputs": []
    },
    {
      "cell_type": "code",
      "source": [
        ""
      ],
      "metadata": {
        "id": "FeiTmsEZBWxy"
      },
      "execution_count": null,
      "outputs": []
    },
    {
      "cell_type": "code",
      "source": [
        ""
      ],
      "metadata": {
        "id": "refdw0UsBWzf"
      },
      "execution_count": null,
      "outputs": []
    },
    {
      "cell_type": "code",
      "source": [
        ""
      ],
      "metadata": {
        "id": "fg_tL6hXBW2Q"
      },
      "execution_count": null,
      "outputs": []
    },
    {
      "cell_type": "markdown",
      "source": [
        "###Part II: Linear Regression with multi dimensional input\n",
        "    -> Input:    X in R^(nxm), y in R^n\n",
        "    -> Output: W in R^m"
      ],
      "metadata": {
        "id": "nUuooy5m8BVn"
      }
    },
    {
      "cell_type": "code",
      "source": [
        "import numpy as np\n",
        "from sklearn.linear_model import LinearRegression\n",
        "\n",
        "def linear_regression2D(x,y):\n",
        "  x = np.array(x)\n",
        "  y = np.array(y)\n",
        "\n",
        "  # Using scikit-learn library from Machine Learning\n",
        "  regressor = LinearRegression()\n",
        "  regressor.fit(x,y)\n",
        "  print(f\"The coefficients or Weight matrix is {regressor.coef_} \")\n",
        "\n",
        "# For the above function, to get good results we need large dataset, for instance above 500 values for x and y\n",
        "\n",
        "def linear_regression2D_formula(x,y):\n",
        "  x = np.array(x)\n",
        "  y = np.array(y)\n",
        "  # Using W = (X`X)-1X`Y\n",
        "  X_t = np.matrix.transpose(x)\n",
        "  X_tX = np.dot(X_t,x)\n",
        "  inverse = np.linalg.inv(X_tX)\n",
        "  prod = X_t*y\n",
        "  W = np.dot(inverse,prod)\n",
        "  print(f\"the Weights W are = {W}\")\n",
        "  print(f\"the size of W is {len(W)}\")\n",
        "\n",
        "  \n",
        "\n",
        "\n"
      ],
      "metadata": {
        "id": "sk4_QEfl8CAU"
      },
      "execution_count": 36,
      "outputs": []
    },
    {
      "cell_type": "code",
      "source": [
        ""
      ],
      "metadata": {
        "id": "XHQgYHExKgv3"
      },
      "execution_count": 36,
      "outputs": []
    },
    {
      "cell_type": "code",
      "source": [
        "x = [[60,22],[62,25],[67,24],[70,20],[71,15],[72,14],[75,14],[78,11]]\n",
        "y=[140,155,159,179,192,200,212,215]\n",
        "linear_regression2D_formula(x,y)"
      ],
      "metadata": {
        "colab": {
          "base_uri": "https://localhost:8080/"
        },
        "id": "MLZSkwAwKgyi",
        "outputId": "692814a7-0129-4ed1-e255-79c0ee751022"
      },
      "execution_count": 37,
      "outputs": [
        {
          "output_type": "stream",
          "name": "stdout",
          "text": [
            "the Weights W are = [[-0.54353496 -0.90483448 -0.61674181  0.00628873  0.82432545  1.06590541\n",
            "   1.2765527   1.96294373]\n",
            " [ 2.98927068  4.53268267  3.50565266  1.24619179 -1.85866973 -2.73069834\n",
            "  -3.4068484  -6.01759201]]\n",
            "the size of W is 2\n"
          ]
        }
      ]
    },
    {
      "cell_type": "code",
      "source": [
        "plt.plot(x,y)"
      ],
      "metadata": {
        "colab": {
          "base_uri": "https://localhost:8080/",
          "height": 300
        },
        "id": "pwAnhHiKKg2E",
        "outputId": "10906b26-cb16-4807-ef9d-d78acd4f9b7b"
      },
      "execution_count": 38,
      "outputs": [
        {
          "output_type": "execute_result",
          "data": {
            "text/plain": [
              "[<matplotlib.lines.Line2D at 0x7f1c19b3aa50>,\n",
              " <matplotlib.lines.Line2D at 0x7f1c19ba2090>]"
            ]
          },
          "metadata": {},
          "execution_count": 38
        },
        {
          "output_type": "display_data",
          "data": {
            "text/plain": [
              "<Figure size 432x288 with 1 Axes>"
            ],
            "image/png": "[encoded data removed]"
          },
          "metadata": {
            "needs_background": "light"
          }
        }
      ]
    },
    {
      "cell_type": "markdown",
      "source": [
        "### Part III: Gradient Descent with Single Variable\n",
        "    -> Input: f(x) (convex)\n",
        "    -> Output: min f(x)"
      ],
      "metadata": {
        "id": "ZeTo9X_08EGO"
      }
    },
    {
      "cell_type": "code",
      "source": [
        ""
      ],
      "metadata": {
        "id": "nq5gjk5G8Izb"
      },
      "execution_count": null,
      "outputs": []
    },
    {
      "cell_type": "markdown",
      "source": [
        "#### Optional: Gradient Descent with Multi Variable\n",
        "    -> Input: F(x*) (convex)\n",
        "    -> Output: min F(x*)"
      ],
      "metadata": {
        "id": "Ao0LAPSJ8KIV"
      }
    },
    {
      "cell_type": "code",
      "source": [
        ""
      ],
      "metadata": {
        "id": "znL2TW_h8NR-"
      },
      "execution_count": null,
      "outputs": []
    }
  ]
}