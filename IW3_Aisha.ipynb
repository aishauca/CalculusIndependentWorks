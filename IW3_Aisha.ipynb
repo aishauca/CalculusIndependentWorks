{
  "nbformat": 4,
  "nbformat_minor": 0,
  "metadata": {
    "kernelspec": {
      "display_name": "Python 3",
      "language": "python",
      "name": "python3"
    },
    "language_info": {
      "codemirror_mode": {
        "name": "ipython",
        "version": 3
      },
      "file_extension": ".py",
      "mimetype": "text/x-python",
      "name": "python",
      "nbconvert_exporter": "python",
      "pygments_lexer": "ipython3",
      "version": "3.8.8"
    },
    "colab": {
      "name": "Copy of Independent Work 3.ipynb",
      "provenance": []
    }
  },
  "cells": [
    {
      "cell_type": "markdown",
      "metadata": {
        "id": "RxrwdPW1Foju"
      },
      "source": [
        "## Numerical Integration"
      ]
    },
    {
      "cell_type": "markdown",
      "metadata": {
        "id": "aBnsx0jBFojz"
      },
      "source": [
        "<p> In this independent work, you are going to implement one of three numerical integration methods: Trapezoid, Midpoint, or Simpson's methods.</p>\n",
        "<p> To determine your method, your position in the class list modulo 3. \n",
        "    <ul>\n",
        "        <li>0: Trapezoid </li>\n",
        "        <li>1: Midpoint </li>\n",
        "        <li>2: Simpson </li>\n",
        "    </ul>\n",
        "</p>\n",
        "\n",
        "<p>For more information, check out the textbook. </p>\n"
      ]
    },
    {
      "cell_type": "code",
      "metadata": {
        "id": "isPSCjnfFoj2"
      },
      "source": [
        "import sympy as sym\n",
        "import numpy as np\n",
        "import matplotlib.pyplot as plt\n",
        "%matplotlib inline\n",
        "from sympy.abc import x"
      ],
      "execution_count": null,
      "outputs": []
    },
    {
      "cell_type": "markdown",
      "metadata": {
        "id": "bUGEuAX1Foj5"
      },
      "source": [
        "## Task 1: Linear Approximation\n",
        "<p>Implement a function that takes a function and a closed interval [a, b] as an input, and returns a numerical approximation of the integral of the function over the given interval. Moreover, try to draw the graph of the function and the area under the curve. </p>"
      ]
    },
    {
      "cell_type": "markdown",
      "metadata": {
        "id": "85kgPW7MS88w"
      },
      "source": [
        "#***My method is Trapezoid***"
      ]
    },
    {
      "cell_type": "code",
      "metadata": {
        "id": "ZRafRqfoIEY_"
      },
      "source": [
        "#First define the function to integrate\n",
        "def f(x):\n",
        "  return 1/(x**2)"
      ],
      "execution_count": null,
      "outputs": []
    },
    {
      "cell_type": "code",
      "metadata": {
        "colab": {
          "base_uri": "https://localhost:8080/"
        },
        "id": "ieKW23FVJGcw",
        "outputId": "addeb210-d16c-4ad2-bc29-d55668ddbf0c"
      },
      "source": [
        "#Implementation of Trapezoidal Rule: further \"trap\"\n",
        "def trap (x0, xn, n):\n",
        "  #spet size h\n",
        "  h = (xn - x0)/ n\n",
        "  #sum functions\n",
        "  integration = f(x0) + f(xn)\n",
        "  for i in range (1, n): \n",
        "    c = x0+ (i*h)\n",
        "    integration = integration + (2*f(c))\n",
        "    #Finding Final Integration\n",
        "    integration = integration * (h/2)\n",
        "    return integration\n",
        "\n",
        "#Input Section\n",
        "lower_limit = (float(input(\"Enter the lower limit of integration:\")))\n",
        "upper_limit = (float(input(\"Enter the upper_limit of Integration:\")))\n",
        "sub_interval = (int(input(\"Enter the sub interval:\")))\n",
        "\n",
        "#result\n",
        "result = trap (lower_limit, upper_limit, sub_interval)\n",
        "print (\"Result is:\",(result))\n"
      ],
      "execution_count": null,
      "outputs": [
        {
          "output_type": "stream",
          "name": "stdout",
          "text": [
            "Enter the lower limit of integration:2\n",
            "Enter the upper_limit of Integration:4\n",
            "Enter the sub interval:6\n",
            "Result is: 0.1133078231292517\n"
          ]
        }
      ]
    },
    {
      "cell_type": "code",
      "metadata": {
        "id": "LNMnMbsOSk2m"
      },
      "source": [
        "#In order to see graph run the 42th line) \n",
        "#Maybe it is too long, I couldn't make them together\n",
        "#In order to change function, change it in the begining)"
      ],
      "execution_count": null,
      "outputs": []
    },
    {
      "cell_type": "code",
      "metadata": {
        "colab": {
          "base_uri": "https://localhost:8080/",
          "height": 281
        },
        "id": "mdIqOHD3QzFr",
        "outputId": "57453012-f474-4460-8c4a-d5f2cb787724"
      },
      "source": [
        "f = lambda x : 1/(x**2)\n",
        "a = lower_limit; b = upper_limit; N = sub_interval\n",
        "\n",
        "# x and y values for the trapezoid rule\n",
        "x = np.linspace(a,b,N+1)\n",
        "y = f(x)\n",
        "\n",
        "# X and Y values for plotting y=f(x)\n",
        "X = np.linspace(a,b,100)\n",
        "Y = f(X)\n",
        "plt.plot(X,Y)\n",
        "\n",
        "for i in range(N):\n",
        "    xs = [x[i],x[i],x[i+1],x[i+1]]\n",
        "    ys = [0,f(x[i]),f(x[i+1]),0]\n",
        "    plt.fill(xs,ys,'b',edgecolor='b',alpha=0.2)\n",
        "\n",
        "plt.title('Trapezoid Rule, N = {}'.format(N))\n",
        "plt.show()\n"
      ],
      "execution_count": null,
      "outputs": [
        {
          "output_type": "display_data",
          "data": {
            "image/png": "[encoded data removed]",
            "text/plain": [
              "<Figure size 432x288 with 1 Axes>"
            ]
          },
          "metadata": {
            "needs_background": "light"
          }
        }
      ]
    }
  ]
}