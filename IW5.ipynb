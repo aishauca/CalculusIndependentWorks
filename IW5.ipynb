{
  "cells": [
    {
      "cell_type": "markdown",
      "metadata": {
        "id": "-z335imX9FLC"
      },
      "source": [
        "\n",
        "Integrating Calculator by Aisha "
      ]
    },
    {
      "cell_type": "code",
      "execution_count": 13,
      "metadata": {
        "id": "9TdSPZnR9U4y"
      },
      "outputs": [],
      "source": [
        "from sympy import integrate, log, exp, oo\n",
        "from sympy.abc import a, x, y\n",
        "\n",
        "def integration_calculator(f,var,lower_limit='inf',upper_limit='inf'):\n",
        "    return integrate(f, (var, lower_limit, upper_limit)) # given the definite integral\n"
      ]
    },
    {
      "cell_type": "code",
      "execution_count": null,
      "metadata": {
        "id": "tW4pLfeB_RQG"
      },
      "outputs": [],
      "source": [
        "from sympy import integrate, log, exp, oo\n",
        "from sympy.abc import a, x, y\n",
        "\n",
        "def integration_calculator(f,var):\n",
        "  # Bydefault the limits are set to infinity and it will calculate the indefinite integral,\n",
        "  # If the limits are given then it will return the definite integral\n",
        "  return integrate(f,var) # given the definite integral\n",
        "z"
      ]
    }
  ],
  "metadata": {
    "colab": {
      "collapsed_sections": [],
      "name": "Integration_calculator.ipynb",
      "provenance": [],
      "toc_visible": true
    },
    "kernelspec": {
      "display_name": "Python 3",
      "name": "python3"
    },
    "language_info": {
      "name": "python"
    }
  },
  "nbformat": 4,
  "nbformat_minor": 0
}
