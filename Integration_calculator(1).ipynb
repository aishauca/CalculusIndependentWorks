{
  "nbformat": 4,
  "nbformat_minor": 0,
  "metadata": {
    "colab": {
      "name": "Integration_calculator.ipynb",
      "provenance": [],
      "collapsed_sections": [],
      "toc_visible": true
    },
    "kernelspec": {
      "name": "python3",
      "display_name": "Python 3"
    },
    "language_info": {
      "name": "python"
    }
  },
  "cells": [
    {
      "cell_type": "markdown",
      "source": [
        "\n",
        "Integrating Calculator by Aisha "
      ],
      "metadata": {
        "id": "-z335imX9FLC"
      }
    },
    {
      "cell_type": "code",
      "source": [
        "from sympy import integrate, log, exp, oo\n",
        "from sympy.abc import a, x, y\n",
        "\n",
        "def integration_calculator(f,var,lower_limit='inf',upper_limit='inf'):\n",
        "    return integrate(f, (var, lower_limit, upper_limit)) # given the definite integral\n"
      ],
      "metadata": {
        "id": "9TdSPZnR9U4y"
      },
      "execution_count": 13,
      "outputs": []
    },
    {
      "cell_type": "code",
      "source": [
        "from sympy import integrate, log, exp, oo\n",
        "from sympy.abc import a, x, y\n",
        "\n",
        "def integration_calculator(f,var):\n",
        "  # Bydefault the limits are set to infinity and it will calculate the indefinite integral,\n",
        "  # If the limits are given then it will return the definite integral\n",
        "  return integrate(f,var) # given the definite integral\n"
      ],
      "metadata": {
        "id": "tW4pLfeB_RQG"
      },
      "execution_count": null,
      "outputs": []
    }
  ]
}